{
  "nbformat": 4,
  "nbformat_minor": 0,
  "metadata": {
    "colab": {
      "provenance": []
    },
    "kernelspec": {
      "name": "python3",
      "display_name": "Python 3"
    },
    "language_info": {
      "name": "python"
    }
  },
  "cells": [
    {
      "cell_type": "code",
      "execution_count": 1,
      "metadata": {
        "id": "zPJ9l1TqfY67"
      },
      "outputs": [],
      "source": [
        "import pandas as pd\n",
        "import numpy as np"
      ]
    },
    {
      "cell_type": "code",
      "source": [
        "def mean(x):\n",
        "  return sum(x)/len(x)"
      ],
      "metadata": {
        "id": "MPAb3MRPgQrP"
      },
      "execution_count": 3,
      "outputs": []
    },
    {
      "cell_type": "code",
      "source": [
        "def std(x):\n",
        "  return (sum((i-mean(x))**2 for i in x)/len(x))**0.5"
      ],
      "metadata": {
        "id": "ncFDqso5jj6I"
      },
      "execution_count": 4,
      "outputs": []
    },
    {
      "cell_type": "code",
      "source": [
        "def standardize_data(x):\n",
        "  std_data=x-mean(x)/std(x)\n",
        "  return std_data\n"
      ],
      "metadata": {
        "id": "lKM4pZO-kPhI"
      },
      "execution_count": 5,
      "outputs": []
    },
    {
      "cell_type": "code",
      "source": [
        "def covariance(x):\n",
        " cov_mat=(standardize_data(x).T @ standardize_data(x))/(standardize_data(x).shape[0]-1)\n",
        " return cov_mat"
      ],
      "metadata": {
        "id": "NbN1h88mktGM"
      },
      "execution_count": 126,
      "outputs": []
    },
    {
      "cell_type": "code",
      "source": [
        "def eigen_val_vector(x,k):\n",
        "  eig_vals,eig_vecs = np.linalg.eig(covariance(x))\n",
        "  sort_idx=np.argsort(eig_vals)[::-1]\n",
        "  eig_vals=eig_vals[sort_idx]\n",
        "  eig_vecs=eig_vecs[:,sort_idx]\n",
        "  components=eig_vecs[:k]\n",
        "  explained_variance=np.sum(eig_vals[:k])/np.sum(eig_vals)\n",
        "  return explained_variance"
      ],
      "metadata": {
        "id": "epeHVK5nmeqo"
      },
      "execution_count": 127,
      "outputs": []
    },
    {
      "cell_type": "code",
      "source": [
        "def transform(x,k):\n",
        "  x-=mean(x)\n",
        "  return np.dot(x,eigen_val_vector.components(x,k).T)\n",
        ""
      ],
      "metadata": {
        "id": "QFsCX_aMqWXg"
      },
      "execution_count": 128,
      "outputs": []
    },
    {
      "cell_type": "code",
      "source": [
        "x_old=np.random.normal(loc=0,scale=1, size=(1000,10))"
      ],
      "metadata": {
        "id": "9iEcFXQfUcyi"
      },
      "execution_count": 11,
      "outputs": []
    },
    {
      "cell_type": "code",
      "source": [
        "x_old.shape\n"
      ],
      "metadata": {
        "colab": {
          "base_uri": "https://localhost:8080/"
        },
        "id": "KL8JPXAiU_5X",
        "outputId": "dd60c671-c52d-4330-c598-02f3fff8aba0"
      },
      "execution_count": 120,
      "outputs": [
        {
          "output_type": "execute_result",
          "data": {
            "text/plain": [
              "(1000, 10)"
            ]
          },
          "metadata": {},
          "execution_count": 120
        }
      ]
    },
    {
      "cell_type": "code",
      "source": [
        "x=standardize_data(x_old)"
      ],
      "metadata": {
        "id": "nIr930_nVXp_"
      },
      "execution_count": 17,
      "outputs": []
    },
    {
      "cell_type": "code",
      "source": [
        "x"
      ],
      "metadata": {
        "colab": {
          "base_uri": "https://localhost:8080/"
        },
        "id": "pX_LPORiVfID",
        "outputId": "29339305-0116-4c88-fe51-d1593f56689b"
      },
      "execution_count": 18,
      "outputs": [
        {
          "output_type": "execute_result",
          "data": {
            "text/plain": [
              "array([[ 1.88299293, -1.84405296, -0.54825891, ..., -2.9897749 ,\n",
              "         0.11889526,  1.30151316],\n",
              "       [ 0.7719974 ,  0.56270866,  0.23910962, ..., -0.52854047,\n",
              "         0.71629368, -0.47046624],\n",
              "       [-0.57311248,  1.94700717,  1.16175598, ...,  0.08829464,\n",
              "        -0.70208581, -0.04948367],\n",
              "       ...,\n",
              "       [-0.480387  , -0.177113  , -0.28075461, ...,  1.92485277,\n",
              "         0.56900913,  1.56046687],\n",
              "       [ 1.08820464,  0.78083447, -0.48042064, ..., -0.91964603,\n",
              "         0.30536404, -0.40829371],\n",
              "       [ 0.11155928, -1.18123648, -0.61589058, ...,  2.28701184,\n",
              "         0.93740359, -0.86340962]])"
            ]
          },
          "metadata": {},
          "execution_count": 18
        }
      ]
    },
    {
      "cell_type": "code",
      "source": [],
      "metadata": {
        "id": "0eNIwu2W04Nl"
      },
      "execution_count": null,
      "outputs": []
    },
    {
      "cell_type": "code",
      "source": [
        "x.shape"
      ],
      "metadata": {
        "colab": {
          "base_uri": "https://localhost:8080/"
        },
        "id": "_6V4ks7jX4Ht",
        "outputId": "7459788a-f3a2-49f5-e468-99134e076f3d"
      },
      "execution_count": 28,
      "outputs": [
        {
          "output_type": "execute_result",
          "data": {
            "text/plain": [
              "(1000, 10)"
            ]
          },
          "metadata": {},
          "execution_count": 28
        }
      ]
    },
    {
      "cell_type": "code",
      "source": [
        "cov_matrix=covariance(x)"
      ],
      "metadata": {
        "id": "15-9skYgWOfg"
      },
      "execution_count": 20,
      "outputs": []
    },
    {
      "cell_type": "code",
      "source": [
        "cov_matrix.shape"
      ],
      "metadata": {
        "colab": {
          "base_uri": "https://localhost:8080/"
        },
        "id": "EA34GfB9WgET",
        "outputId": "222a74e2-0a8f-41b9-d601-b7d9ccad77e9"
      },
      "execution_count": 27,
      "outputs": [
        {
          "output_type": "execute_result",
          "data": {
            "text/plain": [
              "(10, 10)"
            ]
          },
          "metadata": {},
          "execution_count": 27
        }
      ]
    },
    {
      "cell_type": "code",
      "source": [
        "eigen_val_vector(x,7)"
      ],
      "metadata": {
        "colab": {
          "base_uri": "https://localhost:8080/"
        },
        "id": "5-3QdidDWnjm",
        "outputId": "b093cbcf-5d72-4392-f5d6-3f58a7e20c70"
      },
      "execution_count": 44,
      "outputs": [
        {
          "output_type": "execute_result",
          "data": {
            "text/plain": [
              "0.7331967563180775"
            ]
          },
          "metadata": {},
          "execution_count": 44
        }
      ]
    },
    {
      "cell_type": "code",
      "source": [
        "class PCA:\n",
        "  def __init__(self,num_components):\n",
        "    self.num_components=num_components\n",
        "\n",
        "\n",
        "  def standardize_data(self,x):\n",
        "    self.mean= np.sum(x)/len(x)\n",
        "    self.std= (sum((i-mean(x))**2 for i in x)/len(x))**0.5\n",
        "    std_data=x-mean(x)/std(x)\n",
        "    return std_data\n",
        "  def covariance(self,x):\n",
        "    cov_mat=(self.standardize_data(x).T @ self.standardize_data(x))/(self.standardize_data(x).shape[0]-1)\n",
        "    return cov_mat\n",
        "  def fit_n_transform(self,x):\n",
        "    eig_vals,eig_vecs = np.linalg.eig(self.covariance(x))\n",
        "    sort_idx=np.argsort(eig_vals)[::-1]\n",
        "    eig_vals=eig_vals[sort_idx]\n",
        "    eig_vecs=eig_vecs[:,sort_idx]\n",
        "    self.components=eig_vecs[:self.num_components]\n",
        "    explained_variance=np.sum(eig_vals[:self.num_components])/np.sum(eig_vals)\n",
        "    print(\"component variance:\\n\",explained_variance)\n",
        "    comp=self.components.T\n",
        "    print(\"PCA:\\n\",np.dot(standardize_data(x),comp))"
      ],
      "metadata": {
        "id": "Il1Pvoh1XkcM"
      },
      "execution_count": 178,
      "outputs": []
    },
    {
      "cell_type": "code",
      "source": [
        "PCA(num_components=2).eigen_val_vector(x_old)"
      ],
      "metadata": {
        "colab": {
          "base_uri": "https://localhost:8080/"
        },
        "id": "W1kQvI0CoN8R",
        "outputId": "a7194e53-566b-446b-b187-5ae3cf11a48e"
      },
      "execution_count": 177,
      "outputs": [
        {
          "output_type": "stream",
          "name": "stdout",
          "text": [
            "component variance:\n",
            " 0.22471048101075342\n",
            "PCA:\n",
            " [[-2.70166880e-03  1.10304597e-03]\n",
            " [ 6.51101717e-02  4.97655734e-01]\n",
            " [ 1.06064758e+00  2.04576905e-01]\n",
            " ...\n",
            " [-5.59259821e-01 -1.41803392e+00]\n",
            " [-3.94843433e-01  7.96695905e-01]\n",
            " [-1.59871449e+00 -1.22042435e-01]]\n"
          ]
        }
      ]
    },
    {
      "cell_type": "code",
      "source": [
        "PCA(num_components=8).transform(x_old)"
      ],
      "metadata": {
        "colab": {
          "base_uri": "https://localhost:8080/",
          "height": 279
        },
        "id": "1aLkb626fFvu",
        "outputId": "4a406a52-dc62-4efe-9a7b-17087ae7d638"
      },
      "execution_count": 162,
      "outputs": [
        {
          "output_type": "error",
          "ename": "AttributeError",
          "evalue": "ignored",
          "traceback": [
            "\u001b[0;31m---------------------------------------------------------------------------\u001b[0m",
            "\u001b[0;31mAttributeError\u001b[0m                            Traceback (most recent call last)",
            "\u001b[0;32m<ipython-input-162-1803858f62b9>\u001b[0m in \u001b[0;36m<cell line: 1>\u001b[0;34m()\u001b[0m\n\u001b[0;32m----> 1\u001b[0;31m \u001b[0mPCA\u001b[0m\u001b[0;34m(\u001b[0m\u001b[0mnum_components\u001b[0m\u001b[0;34m=\u001b[0m\u001b[0;36m8\u001b[0m\u001b[0;34m)\u001b[0m\u001b[0;34m.\u001b[0m\u001b[0mtransform\u001b[0m\u001b[0;34m(\u001b[0m\u001b[0mx_old\u001b[0m\u001b[0;34m)\u001b[0m\u001b[0;34m\u001b[0m\u001b[0;34m\u001b[0m\u001b[0m\n\u001b[0m",
            "\u001b[0;32m<ipython-input-160-c7e5f91a478d>\u001b[0m in \u001b[0;36mtransform\u001b[0;34m(self, x)\u001b[0m\n\u001b[1;32m     21\u001b[0m     \u001b[0;32mreturn\u001b[0m \u001b[0mexplained_variance\u001b[0m\u001b[0;34m\u001b[0m\u001b[0;34m\u001b[0m\u001b[0m\n\u001b[1;32m     22\u001b[0m   \u001b[0;32mdef\u001b[0m \u001b[0mtransform\u001b[0m\u001b[0;34m(\u001b[0m\u001b[0mself\u001b[0m\u001b[0;34m,\u001b[0m\u001b[0mx\u001b[0m\u001b[0;34m)\u001b[0m\u001b[0;34m:\u001b[0m\u001b[0;34m\u001b[0m\u001b[0;34m\u001b[0m\u001b[0m\n\u001b[0;32m---> 23\u001b[0;31m     \u001b[0mcomp\u001b[0m\u001b[0;34m=\u001b[0m\u001b[0mself\u001b[0m\u001b[0;34m.\u001b[0m\u001b[0mcomponents\u001b[0m\u001b[0;34m.\u001b[0m\u001b[0mT\u001b[0m\u001b[0;34m\u001b[0m\u001b[0;34m\u001b[0m\u001b[0m\n\u001b[0m\u001b[1;32m     24\u001b[0m     \u001b[0;32mreturn\u001b[0m \u001b[0mnp\u001b[0m\u001b[0;34m.\u001b[0m\u001b[0mdot\u001b[0m\u001b[0;34m(\u001b[0m\u001b[0mx\u001b[0m\u001b[0;34m,\u001b[0m\u001b[0mcomp\u001b[0m\u001b[0;34m)\u001b[0m\u001b[0;34m\u001b[0m\u001b[0;34m\u001b[0m\u001b[0m\n",
            "\u001b[0;31mAttributeError\u001b[0m: 'PCA' object has no attribute 'components'"
          ]
        }
      ]
    },
    {
      "cell_type": "code",
      "source": [],
      "metadata": {
        "id": "eXJZMWYIgc3j"
      },
      "execution_count": 152,
      "outputs": []
    }
  ]
}